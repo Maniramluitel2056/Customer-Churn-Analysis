{
 "cells": [
  {
   "cell_type": "code",
   "execution_count": null,
   "id": "a902d663-912b-4f27-8925-15e8b1df0d3f",
   "metadata": {},
   "outputs": [],
   "source": [
    "import pandas as pd\n",
    "from sklearn.cluster import KMeans\n",
    "import matplotlib.pyplot as plt\n",
    "from sklearn.metrics import silhouette_score\n",
    "\n",
    "# Load the cleaned dataset\n",
    "cleaned_data = pd.read_csv('path/to/cleaned_dataset.csv')\n",
    "\n",
    "# Example preprocessing (if needed)\n",
    "# data_for_clustering = preprocess(cleaned_data)  # Adjust as necessary\n",
    "\n",
    "# Apply K-means clustering\n",
    "kmeans = KMeans(n_clusters=3)  # Number of clusters can be adjusted\n",
    "kmeans.fit(cleaned_data)\n",
    "cleaned_data['Cluster'] = kmeans.labels_\n",
    "\n",
    "# Evaluate clustering model\n",
    "silhouette_avg = silhouette_score(cleaned_data, kmeans.labels_)\n",
    "print(f'Silhouette Score: {silhouette_avg}')\n",
    "\n",
    "# Visualize the clusters (example with 2 features)\n",
    "plt.scatter(cleaned_data['Feature1'], cleaned_data['Feature2'], c=cleaned_data['Cluster'])\n",
    "plt.xlabel('Feature1')\n",
    "plt.ylabel('Feature2')\n",
    "plt.title('K-means Clustering Results')\n",
    "plt.show()\n",
    "\n",
    "# Save results (if needed)\n",
    "cleaned_data.to_csv('path/to/clustered_data.csv', index=False)\n"
   ]
  }
 ],
 "metadata": {
  "kernelspec": {
   "display_name": "Python 3 (ipykernel)",
   "language": "python",
   "name": "python3"
  },
  "language_info": {
   "codemirror_mode": {
    "name": "ipython",
    "version": 3
   },
   "file_extension": ".py",
   "mimetype": "text/x-python",
   "name": "python",
   "nbconvert_exporter": "python",
   "pygments_lexer": "ipython3",
   "version": "3.12.4"
  }
 },
 "nbformat": 4,
 "nbformat_minor": 5
}
