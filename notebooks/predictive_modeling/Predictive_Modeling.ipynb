{
 "cells": [
  {
   "cell_type": "markdown",
   "metadata": {},
   "source": [
    "# Task 1: Define the Architecture of the ANN Model\n",
    "\n",
    "In this notebook, we will define the architecture of the Artificial Neural Network (ANN) model based on the features in our dataset. \n",
    "We will:\n",
    "1. Check if the model architecture file (`ann_architecture.json`) exists.\n",
    "2. Load and compile the model if the architecture file is found.\n",
    "3. Print the model architecture.\n"
   ]
  },
  {
   "cell_type": "code",
   "execution_count": 1,
   "metadata": {},
   "outputs": [
    {
     "name": "stdout",
     "output_type": "stream",
     "text": [
      "Current working directory: d:\\Customer-Churn-Analysis\\notebooks\\predictive_modeling\n",
      "Notebook directory: d:\\Customer-Churn-Analysis\\notebooks\n",
      "Project root: d:\\Customer-Churn-Analysis\n",
      "Utils path: d:\\Customer-Churn-Analysis\\utils\n",
      "Config path: d:\\Customer-Churn-Analysis\\config.json\n",
      "ANN Architecture Path: d:\\Customer-Churn-Analysis\\Predictive_Modeling/ann_architecture\n",
      "Looking for architecture file at: d:\\Customer-Churn-Analysis\\Predictive_Modeling/ann_architecture\\ann_architecture.json\n",
      "Model architecture file found at d:\\Customer-Churn-Analysis\\Predictive_Modeling/ann_architecture\\ann_architecture.json. Loading the model architecture...\n"
     ]
    }
   ],
   "source": [
    "import os\n",
    "import json\n",
    "import random\n",
    "import numpy as np\n",
    "import pandas as pd\n",
    "from tensorflow.keras.models import Sequential # type: ignore\n",
    "from tensorflow.keras.layers import Dense, Dropout # type: ignore\n",
    "from tensorflow.keras.optimizers import Adam # type: ignore # type: ignore\n",
    "import tensorflow as tf\n",
    "\n",
    "# Set random seeds for reproducibility\n",
    "random.seed(42)\n",
    "np.random.seed(42)\n",
    "tf.random.set_seed(42)\n",
    "\n",
    "# Print the current working directory for debugging\n",
    "print(f\"Current working directory: {os.getcwd()}\")\n",
    "\n",
    "# Ensure the utils module can be found\n",
    "notebook_dir = os.path.dirname(os.path.abspath(''))\n",
    "project_root = os.path.abspath(os.path.join(notebook_dir, '..'))\n",
    "utils_path = os.path.join(project_root, 'utils')\n",
    "\n",
    "print(f\"Notebook directory: {notebook_dir}\")\n",
    "print(f\"Project root: {project_root}\")\n",
    "print(f\"Utils path: {utils_path}\")\n",
    "\n",
    "# Load configuration\n",
    "config_path = os.path.abspath(os.path.join(os.path.dirname(os.path.abspath('')), '..', 'config.json'))\n",
    "print(f\"Config path: {config_path}\")\n",
    "with open(config_path, 'r') as f:\n",
    "    config = json.load(f)\n",
    "\n",
    "# Base directory: the root of your project\n",
    "base_dir = os.path.dirname(os.path.dirname(os.path.abspath('')))\n",
    "\n",
    "# Convert relative paths from config to absolute paths\n",
    "ann_architecture_path = os.path.join(base_dir, config['ann_architecture_path'])\n",
    "train_data_path = os.path.join(base_dir, config['train_data_path'])\n",
    "print(f\"ANN Architecture Path: {ann_architecture_path}\")\n",
    "\n",
    "# Check for Model Architecture JSON\n",
    "architecture_file_path = os.path.join(ann_architecture_path, 'ann_architecture.json')\n",
    "\n",
    "# Print the constructed path for debugging\n",
    "print(f\"Looking for architecture file at: {architecture_file_path}\")\n",
    "\n",
    "# Check if the architecture file exists\n",
    "if os.path.exists(architecture_file_path):\n",
    "    print(f\"Model architecture file found at {architecture_file_path}. Loading the model architecture...\")\n",
    "else:\n",
    "    raise FileNotFoundError(f\"Model architecture file not found at {architecture_file_path}. Please ensure the file is in the correct location.\")\n"
   ]
  },
  {
   "cell_type": "markdown",
   "metadata": {},
   "source": [
    "## Check for Existing Model Architecture\n",
    "\n",
    "Next, we check if the model architecture file (`ann_architecture.json`) exists. \n",
    "If the file is found, we load and print the model architecture. \n",
    "If not, we will raise an error, as this notebook is only for loading an existing model architecture.\n"
   ]
  },
  {
   "cell_type": "code",
   "execution_count": 2,
   "metadata": {},
   "outputs": [
    {
     "name": "stdout",
     "output_type": "stream",
     "text": [
      "Looking for architecture file at: d:\\Customer-Churn-Analysis\\Predictive_Modeling/ann_architecture\\ann_architecture.json\n",
      "Model architecture file found at d:\\Customer-Churn-Analysis\\Predictive_Modeling/ann_architecture\\ann_architecture.json. Loading the model architecture...\n"
     ]
    }
   ],
   "source": [
    "# Define the file path for the model architecture\n",
    "architecture_file_path = os.path.join(ann_architecture_path, 'ann_architecture.json')\n",
    "\n",
    "# Print the constructed path for debugging\n",
    "print(f\"Looking for architecture file at: {architecture_file_path}\")\n",
    "\n",
    "# Check if the architecture file exists\n",
    "if os.path.exists(architecture_file_path):\n",
    "    print(f\"Model architecture file found at {architecture_file_path}. Loading the model architecture...\")\n",
    "else:\n",
    "    raise FileNotFoundError(f\"Model architecture file not found at {architecture_file_path}. Please ensure the file is in the correct location.\")\n"
   ]
  },
  {
   "cell_type": "markdown",
   "metadata": {},
   "source": [
    "## Load and Compile Model\n",
    "\n",
    "If the model architecture file exists, we will load it and compile the model. \n",
    "This step ensures that the notebook only loads the predefined architecture without creating a new one.\n"
   ]
  },
  {
   "cell_type": "code",
   "execution_count": 3,
   "metadata": {},
   "outputs": [
    {
     "name": "stdout",
     "output_type": "stream",
     "text": [
      "Model loaded and compiled successfully.\n"
     ]
    }
   ],
   "source": [
    "from tensorflow.keras.models import model_from_json # type: ignore\n",
    "\n",
    "# Load the model architecture from the JSON file\n",
    "with open(architecture_file_path, 'r') as json_file:\n",
    "    loaded_model_json = json_file.read()\n",
    "\n",
    "model = model_from_json(loaded_model_json)\n",
    "\n",
    "# Compile the model\n",
    "optimizer = Adam(learning_rate=0.001)\n",
    "model.compile(optimizer=optimizer, loss='binary_crossentropy', metrics=['accuracy'])\n",
    "\n",
    "print(\"Model loaded and compiled successfully.\")\n"
   ]
  },
  {
   "cell_type": "markdown",
   "metadata": {},
   "source": [
    "## Display Model Summary\n",
    "\n",
    "Finally, we will display the summary of the loaded model to verify its architecture.\n"
   ]
  },
  {
   "cell_type": "code",
   "execution_count": 4,
   "metadata": {},
   "outputs": [
    {
     "name": "stdout",
     "output_type": "stream",
     "text": [
      "Model: \"sequential\"\n",
      "_________________________________________________________________\n",
      " Layer (type)                Output Shape              Param #   \n",
      "=================================================================\n",
      " dense (Dense)               (None, 64)                1216      \n",
      "                                                                 \n",
      " dense_1 (Dense)             (None, 32)                2080      \n",
      "                                                                 \n",
      " dropout (Dropout)           (None, 32)                0         \n",
      "                                                                 \n",
      " dense_2 (Dense)             (None, 16)                528       \n",
      "                                                                 \n",
      " dropout_1 (Dropout)         (None, 16)                0         \n",
      "                                                                 \n",
      " dense_3 (Dense)             (None, 1)                 17        \n",
      "                                                                 \n",
      "=================================================================\n",
      "Total params: 3841 (15.00 KB)\n",
      "Trainable params: 3841 (15.00 KB)\n",
      "Non-trainable params: 0 (0.00 Byte)\n",
      "_________________________________________________________________\n"
     ]
    }
   ],
   "source": [
    "# Display the model summary\n",
    "model.summary()\n"
   ]
  }
 ],
 "metadata": {
  "kernelspec": {
   "display_name": "churn_analysis",
   "language": "python",
   "name": "python3"
  },
  "language_info": {
   "codemirror_mode": {
    "name": "ipython",
    "version": 3
   },
   "file_extension": ".py",
   "mimetype": "text/x-python",
   "name": "python",
   "nbconvert_exporter": "python",
   "pygments_lexer": "ipython3",
   "version": "3.8.19"
  }
 },
 "nbformat": 4,
 "nbformat_minor": 2
}
