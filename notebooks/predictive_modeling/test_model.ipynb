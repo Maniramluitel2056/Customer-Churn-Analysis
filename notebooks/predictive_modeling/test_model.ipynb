{
 "cells": [
  {
   "cell_type": "markdown",
   "metadata": {},
   "source": [
    "# Model Testing and Evaluation\n",
    "\n",
    "This notebook mirrors the functionality of `test_model.py` to evaluate a trained ANN model using test data. The notebook will:\n",
    "1. Load the test data and trained model.\n",
    "2. Evaluate the model on the test data.\n",
    "3. Display performance metrics and visualizations.\n",
    "\n",
    "The notebook ensures the same results as the script and does not modify any files.\n"
   ]
  },
  {
   "cell_type": "markdown",
   "metadata": {},
   "source": [
    "### Load Configuration and Paths\n",
    "\n",
    "We will load the configuration file to get paths for the test data, trained model, and results directory.\n"
   ]
  },
  {
   "cell_type": "code",
   "execution_count": 1,
   "metadata": {},
   "outputs": [
    {
     "name": "stdout",
     "output_type": "stream",
     "text": [
      "Config path: d:\\Customer-Churn-Analysis\\notebooks\\..\\config.json\n",
      "Project root: d:\\Customer-Churn-Analysis\n"
     ]
    }
   ],
   "source": [
    "import os\n",
    "import json\n",
    "import pandas as pd # type: ignore\n",
    "import matplotlib.pyplot as plt # type: ignore\n",
    "from tensorflow.keras.models import load_model # type: ignore\n",
    "from sklearn.metrics import precision_score, recall_score, f1_score, roc_auc_score, roc_curve # type: ignore\n",
    "\n",
    "# Load configuration\n",
    "config_path = os.path.join(os.path.dirname(os.path.abspath('')), '..', 'config.json')\n",
    "print(f\"Config path: {config_path}\")\n",
    "with open(config_path, 'r') as f:\n",
    "    config = json.load(f)\n",
    "\n",
    "# Define paths using absolute paths from the configuration file\n",
    "project_root = os.path.abspath(os.path.join(os.path.dirname(os.path.abspath('')), '..'))\n",
    "print(f\"Project root: {project_root}\")\n",
    "\n",
    "test_data_path = os.path.join(project_root, config['test_data_path'])\n",
    "trained_model_path = os.path.join(project_root, config['trained_model_path'], 'best_model.h5')\n",
    "results_dir = os.path.join(project_root, config['results_path'], 'test_results')\n"
   ]
  },
  {
   "cell_type": "markdown",
   "metadata": {},
   "source": [
    "### Load Test Data\n",
    "\n",
    "We will now load the test data from the specified path and display the first few rows to ensure it has been loaded correctly.\n"
   ]
  },
  {
   "cell_type": "code",
   "execution_count": 2,
   "metadata": {},
   "outputs": [
    {
     "name": "stdout",
     "output_type": "stream",
     "text": [
      "Loading test data from d:\\Customer-Churn-Analysis\\data/test/test_dataset.csv\n",
      "First few rows of the test data:\n",
      "   SeniorCitizen  tenure  MonthlyCharges  gender_Female  gender_Male  \\\n",
      "0              0       1           24.80            1.0          0.0   \n",
      "1              0      41           25.25            0.0          1.0   \n",
      "2              0      52           19.35            1.0          0.0   \n",
      "3              0       1           76.35            1.0          0.0   \n",
      "4              0      67           50.55            0.0          1.0   \n",
      "\n",
      "   Dependents_No  Dependents_Yes  PhoneService_No  PhoneService_Yes  \\\n",
      "0            1.0             0.0              1.0               0.0   \n",
      "1            1.0             0.0              0.0               1.0   \n",
      "2            0.0             1.0              0.0               1.0   \n",
      "3            1.0             0.0              0.0               1.0   \n",
      "4            1.0             0.0              0.0               1.0   \n",
      "\n",
      "   MultipleLines_No  MultipleLines_Yes  InternetService_DSL  \\\n",
      "0               1.0                0.0                  1.0   \n",
      "1               0.0                1.0                  1.0   \n",
      "2               1.0                0.0                  1.0   \n",
      "3               1.0                0.0                  0.0   \n",
      "4               1.0                0.0                  1.0   \n",
      "\n",
      "   InternetService_Fiber optic  Contract_Month-to-month  Contract_One year  \\\n",
      "0                          0.0                      1.0                0.0   \n",
      "1                          0.0                      1.0                0.0   \n",
      "2                          0.0                      0.0                0.0   \n",
      "3                          1.0                      1.0                0.0   \n",
      "4                          0.0                      0.0                0.0   \n",
      "\n",
      "   Contract_Two year  Churn_No  Churn_Yes  Charges_Per_Tenure  TotalCharges  \n",
      "0                0.0       0.0        1.0           12.400000         24.80  \n",
      "1                0.0       1.0        0.0            0.601190       1035.25  \n",
      "2                1.0       1.0        0.0            0.365094       1006.20  \n",
      "3                0.0       0.0        1.0           38.175000         76.35  \n",
      "4                1.0       1.0        0.0            0.743382       3386.85  \n"
     ]
    }
   ],
   "source": [
    "# Load the test dataset\n",
    "print(f\"Loading test data from {test_data_path}\")\n",
    "test_data = pd.read_csv(test_data_path)\n",
    "\n",
    "# Display the first few rows of the test data\n",
    "print(\"First few rows of the test data:\")\n",
    "print(test_data.head())\n"
   ]
  },
  {
   "cell_type": "markdown",
   "metadata": {},
   "source": [
    "### Load Trained Model\n",
    "\n",
    "Check if the trained model exists and load it for evaluation.\n"
   ]
  },
  {
   "cell_type": "code",
   "execution_count": 3,
   "metadata": {},
   "outputs": [
    {
     "name": "stdout",
     "output_type": "stream",
     "text": [
      "Loading trained model from d:\\Customer-Churn-Analysis\\Predictive_Modeling/trained_model\\best_model.h5\n",
      "Model loaded successfully.\n"
     ]
    }
   ],
   "source": [
    "# Check if the trained model exists\n",
    "if os.path.exists(trained_model_path):\n",
    "    print(f\"Loading trained model from {trained_model_path}\")\n",
    "    model = load_model(trained_model_path)\n",
    "    print(\"Model loaded successfully.\")\n",
    "else:\n",
    "    print(f\"Trained model file not found at {trained_model_path}. Please ensure the file is in the correct location.\")\n"
   ]
  },
  {
   "cell_type": "markdown",
   "metadata": {},
   "source": [
    "### Evaluate Model\n",
    "\n",
    "We will evaluate the model on the test data to obtain various performance metrics.\n"
   ]
  },
  {
   "cell_type": "code",
   "execution_count": 4,
   "metadata": {},
   "outputs": [
    {
     "name": "stdout",
     "output_type": "stream",
     "text": [
      "Evaluating the model on the test data...\n",
      "Test Loss: 0.4678\n",
      "Test Accuracy: 0.7871\n",
      "45/45 [==============================] - 0s 1ms/step\n",
      "\n",
      "Additional Evaluation Metrics:\n",
      "Precision: 0.6478\n",
      "Recall: 0.4290\n",
      "F1 Score: 0.5161\n"
     ]
    }
   ],
   "source": [
    "# Evaluate the model performance on the test data\n",
    "X_test = test_data.drop(columns=['Churn_No', 'Churn_Yes']).values\n",
    "y_test = test_data['Churn_Yes'].values\n",
    "\n",
    "print(\"Evaluating the model on the test data...\")\n",
    "loss, accuracy = model.evaluate(X_test, y_test, verbose=0)\n",
    "print(f\"Test Loss: {loss:.4f}\")\n",
    "print(f\"Test Accuracy: {accuracy:.4f}\")\n",
    "\n",
    "# Calculate additional metrics\n",
    "y_pred_prob = model.predict(X_test)\n",
    "y_pred = (y_pred_prob > 0.5).astype(int)\n",
    "\n",
    "precision = precision_score(y_test, y_pred)\n",
    "recall = recall_score(y_test, y_pred)\n",
    "f1 = f1_score(y_test, y_pred)\n",
    "\n",
    "print(\"\\nAdditional Evaluation Metrics:\")\n",
    "print(f\"Precision: {precision:.4f}\")\n",
    "print(f\"Recall: {recall:.4f}\")\n",
    "print(f\"F1 Score: {f1:.4f}\")\n"
   ]
  },
  {
   "cell_type": "markdown",
   "metadata": {},
   "source": [
    "### Visualize Performance\n",
    "\n",
    "Display the ROC curve and calculate the AUC to assess the model's performance.\n"
   ]
  },
  {
   "cell_type": "code",
   "execution_count": 5,
   "metadata": {},
   "outputs": [
    {
     "name": "stdout",
     "output_type": "stream",
     "text": [
      "AUC: 0.8283\n"
     ]
    },
    {
     "data": {
      "image/png": "[encoded data removed]",
      "text/plain": [
       "<Figure size 640x480 with 1 Axes>"
      ]
     },
     "metadata": {},
     "output_type": "display_data"
    }
   ],
   "source": [
    "# ROC Curve and AUC\n",
    "fpr, tpr, _ = roc_curve(y_test, y_pred_prob)\n",
    "auc = roc_auc_score(y_test, y_pred_prob)\n",
    "print(f\"AUC: {auc:.4f}\")\n",
    "\n",
    "# Plot ROC Curve\n",
    "plt.figure()\n",
    "plt.plot(fpr, tpr, label='ROC curve (area = %0.2f)' % auc)\n",
    "plt.plot([0, 1], [0, 1], 'k--')\n",
    "plt.xlabel('False Positive Rate')\n",
    "plt.ylabel('True Positive Rate')\n",
    "plt.title('Receiver Operating Characteristic (ROC) Curve')\n",
    "plt.legend(loc=\"lower right\")\n",
    "plt.show()\n"
   ]
  },
  {
   "cell_type": "markdown",
   "metadata": {},
   "source": [
    "## Summary and Analysis of Model Testing Results\n",
    "\n",
    "In this section, we analyze the results obtained from testing the trained ANN model on the test dataset. The model was evaluated based on several performance metrics, including loss, accuracy, precision, recall, F1 score, and the Area Under the Curve (AUC) of the Receiver Operating Characteristic (ROC) curve.\n",
    "\n",
    "### Model Performance Metrics\n",
    "\n",
    "1. **Test Loss**: The model achieved a test loss of approximately `0.4678`, indicating the average difference between the predicted and actual values. A lower loss typically signifies a better fit to the test data, though it must be balanced with other metrics to avoid overfitting.\n",
    "\n",
    "2. **Test Accuracy**: The model achieved an accuracy of approximately `0.7871`, meaning it correctly classified about `78.71%` of the test examples. Accuracy provides a general measure of performance but can be misleading if the dataset is imbalanced.\n",
    "\n",
    "3. **Precision**: The precision score of approximately `0.6478` indicates the proportion of true positive predictions among all positive predictions made by the model. High precision is important in contexts where false positives are more costly.\n",
    "\n",
    "4. **Recall**: The recall score of approximately `0.4290` reflects the proportion of actual positives that were correctly identified by the model. High recall is crucial in scenarios where missing a positive case (false negatives) is more detrimental.\n",
    "\n",
    "5. **F1 Score**: The F1 score of approximately `0.5161` provides a balance between precision and recall, especially useful when the data has imbalanced classes. It helps gauge the model's effectiveness in handling both false positives and false negatives.\n",
    "\n",
    "6. **AUC and ROC Curve**: The model's AUC was approximately `0.83`, suggesting that the model has a good ability to distinguish between the positive and negative classes. The ROC curve further illustrates the trade-off between the true positive rate and the false positive rate, and a higher AUC value indicates better overall performance.\n",
    "\n",
    "### Interpretation and Next Steps\n",
    "\n",
    "The model exhibits decent performance on the test dataset, with satisfactory accuracy and balanced precision and recall scores. However, these metrics suggest there is room for improvement, particularly in terms of recall and F1 score. The following steps could be considered:\n",
    "\n",
    "- **Further Tuning**: Depending on the application's criticality, further hyperparameter tuning or model adjustments might be necessary to improve performance, especially to enhance recall without significantly compromising precision.\n",
    "- **Data Augmentation**: If performance needs to be improved, consider augmenting the training data or employing techniques to balance the dataset better.\n",
    "- **Validation on Different Subsets**: To ensure robustness, validate the model on different subsets of data or cross-validation to verify consistency across diverse data samples.\n",
    "- **Real-World Testing**: Finally, validate the model in real-world scenarios to check its practical utility and reliability.\n",
    "\n",
    "By understanding these metrics and taking appropriate next steps, we can ensure the model is well-prepared for deployment and real-world application.\n",
    "\n"
   ]
  }
 ],
 "metadata": {
  "kernelspec": {
   "display_name": "churn_analysis",
   "language": "python",
   "name": "python3"
  },
  "language_info": {
   "codemirror_mode": {
    "name": "ipython",
    "version": 3
   },
   "file_extension": ".py",
   "mimetype": "text/x-python",
   "name": "python",
   "nbconvert_exporter": "python",
   "pygments_lexer": "ipython3",
   "version": "3.8.19"
  }
 },
 "nbformat": 4,
 "nbformat_minor": 2
}
